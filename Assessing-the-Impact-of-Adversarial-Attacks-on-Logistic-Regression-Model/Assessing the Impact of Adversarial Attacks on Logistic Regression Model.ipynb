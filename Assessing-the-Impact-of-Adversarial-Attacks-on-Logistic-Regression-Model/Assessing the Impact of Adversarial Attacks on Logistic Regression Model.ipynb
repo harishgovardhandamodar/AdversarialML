{
 "cells": [
  {
   "cell_type": "markdown",
   "metadata": {},
   "source": [
    "# Assessing the Impact of Adversarial Attacks on Logistic Regression Model #"
   ]
  },
  {
   "cell_type": "markdown",
   "metadata": {},
   "source": [
    "####  Moukhik Misra ####"
   ]
  },
  {
   "cell_type": "code",
   "execution_count": 1,
   "metadata": {
    "_cell_guid": "bc70953a-0e83-4581-8390-e8bef8f3c092",
    "_execution_state": "idle",
    "_kg_hide-input": true,
    "_uuid": "1ca8c05008e02ffb425117e95e9b53221b2a3717",
    "execution": {
     "iopub.execute_input": "2021-11-18T10:59:32.337655Z",
     "iopub.status.busy": "2021-11-18T10:59:32.337206Z",
     "iopub.status.idle": "2021-11-18T10:59:35.545383Z",
     "shell.execute_reply": "2021-11-18T10:59:35.544596Z",
     "shell.execute_reply.started": "2021-11-18T10:59:32.337611Z"
    }
   },
   "outputs": [
    {
     "data": {
      "text/html": [
       "        <script type=\"text/javascript\">\n",
       "        window.PlotlyConfig = {MathJaxConfig: 'local'};\n",
       "        if (window.MathJax) {MathJax.Hub.Config({SVG: {font: \"STIX-Web\"}});}\n",
       "        if (typeof require !== 'undefined') {\n",
       "        require.undef(\"plotly\");\n",
       "        requirejs.config({\n",
       "            paths: {\n",
       "                'plotly': ['https://cdn.plot.ly/plotly-2.6.3.min']\n",
       "            }\n",
       "        });\n",
       "        require(['plotly'], function(Plotly) {\n",
       "            window._Plotly = Plotly;\n",
       "        });\n",
       "        }\n",
       "        </script>\n",
       "        "
      ]
     },
     "metadata": {},
     "output_type": "display_data"
    }
   ],
   "source": [
    "from sklearn.linear_model import LogisticRegression\n",
    "from sklearn import datasets as dt\n",
    "from sklearn.metrics import accuracy_score\n",
    "from sklearn.model_selection import train_test_split\n",
    "from sklearn.discriminant_analysis import LinearDiscriminantAnalysis as LDA\n",
    "\n",
    "import pandas as pd\n",
    "import numpy as np\n",
    "import seaborn as sns\n",
    "\n",
    "\n",
    "import plotly.offline as py\n",
    "py.init_notebook_mode(connected=True)\n",
    "import plotly.graph_objs as go\n",
    "import plotly.tools as tls\n",
    "\n",
    "import matplotlib.image as mpimg\n",
    "import matplotlib.pyplot as plt\n",
    "import matplotlib\n",
    "%matplotlib inline\n",
    "\n",
    "from skimage.io import imread, imshow\n",
    "\n",
    "import warnings\n",
    "warnings.filterwarnings(\"ignore\", category=DeprecationWarning)\n",
    "warnings.filterwarnings(\"ignore\", category=FutureWarning)\n",
    "warnings.filterwarnings(\"ignore\", category=UserWarning)"
   ]
  },
  {
   "cell_type": "markdown",
   "metadata": {
    "_cell_guid": "c863d722-33b0-40cf-bac5-23ff40b0bf61",
    "_uuid": "f6ccc694a5a23c4599effb19e6ed99be37b588a9"
   },
   "source": [
    "## Loading data \n"
   ]
  },
  {
   "cell_type": "code",
   "execution_count": 2,
   "metadata": {
    "_cell_guid": "21c7aed6-1e25-4e1d-9cd1-e0b315ac309e",
    "_execution_state": "idle",
    "_uuid": "08fc0af13cc8650f7d25a2207a78e5c386fe1043",
    "execution": {
     "iopub.execute_input": "2021-11-18T10:59:35.571101Z",
     "iopub.status.busy": "2021-11-18T10:59:35.570332Z",
     "iopub.status.idle": "2021-11-18T10:59:40.438660Z",
     "shell.execute_reply": "2021-11-18T10:59:40.437759Z",
     "shell.execute_reply.started": "2021-11-18T10:59:35.570667Z"
    }
   },
   "outputs": [
    {
     "data": {
      "text/html": [
       "<div>\n",
       "<style scoped>\n",
       "    .dataframe tbody tr th:only-of-type {\n",
       "        vertical-align: middle;\n",
       "    }\n",
       "\n",
       "    .dataframe tbody tr th {\n",
       "        vertical-align: top;\n",
       "    }\n",
       "\n",
       "    .dataframe thead th {\n",
       "        text-align: right;\n",
       "    }\n",
       "</style>\n",
       "<table border=\"1\" class=\"dataframe\">\n",
       "  <thead>\n",
       "    <tr style=\"text-align: right;\">\n",
       "      <th></th>\n",
       "      <th>label</th>\n",
       "      <th>pixel0</th>\n",
       "      <th>pixel1</th>\n",
       "      <th>pixel2</th>\n",
       "      <th>pixel3</th>\n",
       "      <th>pixel4</th>\n",
       "      <th>pixel5</th>\n",
       "      <th>pixel6</th>\n",
       "      <th>pixel7</th>\n",
       "      <th>pixel8</th>\n",
       "      <th>...</th>\n",
       "      <th>pixel774</th>\n",
       "      <th>pixel775</th>\n",
       "      <th>pixel776</th>\n",
       "      <th>pixel777</th>\n",
       "      <th>pixel778</th>\n",
       "      <th>pixel779</th>\n",
       "      <th>pixel780</th>\n",
       "      <th>pixel781</th>\n",
       "      <th>pixel782</th>\n",
       "      <th>pixel783</th>\n",
       "    </tr>\n",
       "  </thead>\n",
       "  <tbody>\n",
       "    <tr>\n",
       "      <th>0</th>\n",
       "      <td>1</td>\n",
       "      <td>0</td>\n",
       "      <td>0</td>\n",
       "      <td>0</td>\n",
       "      <td>0</td>\n",
       "      <td>0</td>\n",
       "      <td>0</td>\n",
       "      <td>0</td>\n",
       "      <td>0</td>\n",
       "      <td>0</td>\n",
       "      <td>...</td>\n",
       "      <td>0</td>\n",
       "      <td>0</td>\n",
       "      <td>0</td>\n",
       "      <td>0</td>\n",
       "      <td>0</td>\n",
       "      <td>0</td>\n",
       "      <td>0</td>\n",
       "      <td>0</td>\n",
       "      <td>0</td>\n",
       "      <td>0</td>\n",
       "    </tr>\n",
       "    <tr>\n",
       "      <th>1</th>\n",
       "      <td>0</td>\n",
       "      <td>0</td>\n",
       "      <td>0</td>\n",
       "      <td>0</td>\n",
       "      <td>0</td>\n",
       "      <td>0</td>\n",
       "      <td>0</td>\n",
       "      <td>0</td>\n",
       "      <td>0</td>\n",
       "      <td>0</td>\n",
       "      <td>...</td>\n",
       "      <td>0</td>\n",
       "      <td>0</td>\n",
       "      <td>0</td>\n",
       "      <td>0</td>\n",
       "      <td>0</td>\n",
       "      <td>0</td>\n",
       "      <td>0</td>\n",
       "      <td>0</td>\n",
       "      <td>0</td>\n",
       "      <td>0</td>\n",
       "    </tr>\n",
       "    <tr>\n",
       "      <th>2</th>\n",
       "      <td>1</td>\n",
       "      <td>0</td>\n",
       "      <td>0</td>\n",
       "      <td>0</td>\n",
       "      <td>0</td>\n",
       "      <td>0</td>\n",
       "      <td>0</td>\n",
       "      <td>0</td>\n",
       "      <td>0</td>\n",
       "      <td>0</td>\n",
       "      <td>...</td>\n",
       "      <td>0</td>\n",
       "      <td>0</td>\n",
       "      <td>0</td>\n",
       "      <td>0</td>\n",
       "      <td>0</td>\n",
       "      <td>0</td>\n",
       "      <td>0</td>\n",
       "      <td>0</td>\n",
       "      <td>0</td>\n",
       "      <td>0</td>\n",
       "    </tr>\n",
       "    <tr>\n",
       "      <th>3</th>\n",
       "      <td>4</td>\n",
       "      <td>0</td>\n",
       "      <td>0</td>\n",
       "      <td>0</td>\n",
       "      <td>0</td>\n",
       "      <td>0</td>\n",
       "      <td>0</td>\n",
       "      <td>0</td>\n",
       "      <td>0</td>\n",
       "      <td>0</td>\n",
       "      <td>...</td>\n",
       "      <td>0</td>\n",
       "      <td>0</td>\n",
       "      <td>0</td>\n",
       "      <td>0</td>\n",
       "      <td>0</td>\n",
       "      <td>0</td>\n",
       "      <td>0</td>\n",
       "      <td>0</td>\n",
       "      <td>0</td>\n",
       "      <td>0</td>\n",
       "    </tr>\n",
       "    <tr>\n",
       "      <th>4</th>\n",
       "      <td>0</td>\n",
       "      <td>0</td>\n",
       "      <td>0</td>\n",
       "      <td>0</td>\n",
       "      <td>0</td>\n",
       "      <td>0</td>\n",
       "      <td>0</td>\n",
       "      <td>0</td>\n",
       "      <td>0</td>\n",
       "      <td>0</td>\n",
       "      <td>...</td>\n",
       "      <td>0</td>\n",
       "      <td>0</td>\n",
       "      <td>0</td>\n",
       "      <td>0</td>\n",
       "      <td>0</td>\n",
       "      <td>0</td>\n",
       "      <td>0</td>\n",
       "      <td>0</td>\n",
       "      <td>0</td>\n",
       "      <td>0</td>\n",
       "    </tr>\n",
       "    <tr>\n",
       "      <th>5</th>\n",
       "      <td>0</td>\n",
       "      <td>0</td>\n",
       "      <td>0</td>\n",
       "      <td>0</td>\n",
       "      <td>0</td>\n",
       "      <td>0</td>\n",
       "      <td>0</td>\n",
       "      <td>0</td>\n",
       "      <td>0</td>\n",
       "      <td>0</td>\n",
       "      <td>...</td>\n",
       "      <td>0</td>\n",
       "      <td>0</td>\n",
       "      <td>0</td>\n",
       "      <td>0</td>\n",
       "      <td>0</td>\n",
       "      <td>0</td>\n",
       "      <td>0</td>\n",
       "      <td>0</td>\n",
       "      <td>0</td>\n",
       "      <td>0</td>\n",
       "    </tr>\n",
       "    <tr>\n",
       "      <th>6</th>\n",
       "      <td>7</td>\n",
       "      <td>0</td>\n",
       "      <td>0</td>\n",
       "      <td>0</td>\n",
       "      <td>0</td>\n",
       "      <td>0</td>\n",
       "      <td>0</td>\n",
       "      <td>0</td>\n",
       "      <td>0</td>\n",
       "      <td>0</td>\n",
       "      <td>...</td>\n",
       "      <td>0</td>\n",
       "      <td>0</td>\n",
       "      <td>0</td>\n",
       "      <td>0</td>\n",
       "      <td>0</td>\n",
       "      <td>0</td>\n",
       "      <td>0</td>\n",
       "      <td>0</td>\n",
       "      <td>0</td>\n",
       "      <td>0</td>\n",
       "    </tr>\n",
       "    <tr>\n",
       "      <th>7</th>\n",
       "      <td>3</td>\n",
       "      <td>0</td>\n",
       "      <td>0</td>\n",
       "      <td>0</td>\n",
       "      <td>0</td>\n",
       "      <td>0</td>\n",
       "      <td>0</td>\n",
       "      <td>0</td>\n",
       "      <td>0</td>\n",
       "      <td>0</td>\n",
       "      <td>...</td>\n",
       "      <td>0</td>\n",
       "      <td>0</td>\n",
       "      <td>0</td>\n",
       "      <td>0</td>\n",
       "      <td>0</td>\n",
       "      <td>0</td>\n",
       "      <td>0</td>\n",
       "      <td>0</td>\n",
       "      <td>0</td>\n",
       "      <td>0</td>\n",
       "    </tr>\n",
       "    <tr>\n",
       "      <th>8</th>\n",
       "      <td>5</td>\n",
       "      <td>0</td>\n",
       "      <td>0</td>\n",
       "      <td>0</td>\n",
       "      <td>0</td>\n",
       "      <td>0</td>\n",
       "      <td>0</td>\n",
       "      <td>0</td>\n",
       "      <td>0</td>\n",
       "      <td>0</td>\n",
       "      <td>...</td>\n",
       "      <td>0</td>\n",
       "      <td>0</td>\n",
       "      <td>0</td>\n",
       "      <td>0</td>\n",
       "      <td>0</td>\n",
       "      <td>0</td>\n",
       "      <td>0</td>\n",
       "      <td>0</td>\n",
       "      <td>0</td>\n",
       "      <td>0</td>\n",
       "    </tr>\n",
       "    <tr>\n",
       "      <th>9</th>\n",
       "      <td>3</td>\n",
       "      <td>0</td>\n",
       "      <td>0</td>\n",
       "      <td>0</td>\n",
       "      <td>0</td>\n",
       "      <td>0</td>\n",
       "      <td>0</td>\n",
       "      <td>0</td>\n",
       "      <td>0</td>\n",
       "      <td>0</td>\n",
       "      <td>...</td>\n",
       "      <td>0</td>\n",
       "      <td>0</td>\n",
       "      <td>0</td>\n",
       "      <td>0</td>\n",
       "      <td>0</td>\n",
       "      <td>0</td>\n",
       "      <td>0</td>\n",
       "      <td>0</td>\n",
       "      <td>0</td>\n",
       "      <td>0</td>\n",
       "    </tr>\n",
       "  </tbody>\n",
       "</table>\n",
       "<p>10 rows × 785 columns</p>\n",
       "</div>"
      ],
      "text/plain": [
       "   label  pixel0  pixel1  pixel2  pixel3  pixel4  pixel5  pixel6  pixel7  \\\n",
       "0      1       0       0       0       0       0       0       0       0   \n",
       "1      0       0       0       0       0       0       0       0       0   \n",
       "2      1       0       0       0       0       0       0       0       0   \n",
       "3      4       0       0       0       0       0       0       0       0   \n",
       "4      0       0       0       0       0       0       0       0       0   \n",
       "5      0       0       0       0       0       0       0       0       0   \n",
       "6      7       0       0       0       0       0       0       0       0   \n",
       "7      3       0       0       0       0       0       0       0       0   \n",
       "8      5       0       0       0       0       0       0       0       0   \n",
       "9      3       0       0       0       0       0       0       0       0   \n",
       "\n",
       "   pixel8  ...  pixel774  pixel775  pixel776  pixel777  pixel778  pixel779  \\\n",
       "0       0  ...         0         0         0         0         0         0   \n",
       "1       0  ...         0         0         0         0         0         0   \n",
       "2       0  ...         0         0         0         0         0         0   \n",
       "3       0  ...         0         0         0         0         0         0   \n",
       "4       0  ...         0         0         0         0         0         0   \n",
       "5       0  ...         0         0         0         0         0         0   \n",
       "6       0  ...         0         0         0         0         0         0   \n",
       "7       0  ...         0         0         0         0         0         0   \n",
       "8       0  ...         0         0         0         0         0         0   \n",
       "9       0  ...         0         0         0         0         0         0   \n",
       "\n",
       "   pixel780  pixel781  pixel782  pixel783  \n",
       "0         0         0         0         0  \n",
       "1         0         0         0         0  \n",
       "2         0         0         0         0  \n",
       "3         0         0         0         0  \n",
       "4         0         0         0         0  \n",
       "5         0         0         0         0  \n",
       "6         0         0         0         0  \n",
       "7         0         0         0         0  \n",
       "8         0         0         0         0  \n",
       "9         0         0         0         0  \n",
       "\n",
       "[10 rows x 785 columns]"
      ]
     },
     "execution_count": 2,
     "metadata": {},
     "output_type": "execute_result"
    }
   ],
   "source": [
    "df = pd.read_csv(\"digit-recognizer/train.csv\")\n",
    "df.head(10)"
   ]
  },
  {
   "cell_type": "code",
   "execution_count": 3,
   "metadata": {
    "_cell_guid": "692864db-8c5a-4cb5-ab38-7347364f05fd",
    "_execution_state": "idle",
    "_uuid": "0d9eae00137ebfc5f4bf37c24b7630491acc7059",
    "execution": {
     "iopub.execute_input": "2021-11-18T10:59:40.440192Z",
     "iopub.status.busy": "2021-11-18T10:59:40.439930Z",
     "iopub.status.idle": "2021-11-18T10:59:41.290000Z",
     "shell.execute_reply": "2021-11-18T10:59:41.288802Z",
     "shell.execute_reply.started": "2021-11-18T10:59:40.440147Z"
    }
   },
   "outputs": [],
   "source": [
    "y = df.label.values\n",
    "X = df.drop(\"label\",axis=1).values\n",
    "X_train, X_test, y_train, y_test = train_test_split(X, y, test_size=0.4, random_state=0)"
   ]
  },
  {
   "cell_type": "code",
   "execution_count": 4,
   "metadata": {
    "_cell_guid": "695f1427-1925-460f-b495-498795788572",
    "_execution_state": "idle",
    "_uuid": "6479e12ade27f0932ec149cad7b7fc488f8d12cf",
    "execution": {
     "iopub.execute_input": "2021-11-18T10:59:41.291779Z",
     "iopub.status.busy": "2021-11-18T10:59:41.291482Z",
     "iopub.status.idle": "2021-11-18T10:59:42.078328Z",
     "shell.execute_reply": "2021-11-18T10:59:42.077320Z",
     "shell.execute_reply.started": "2021-11-18T10:59:41.291732Z"
    }
   },
   "outputs": [
    {
     "data": {
      "image/png": "[encoded data removed]",
      "text/plain": [
       "<Figure size 1080x720 with 15 Axes>"
      ]
     },
     "metadata": {
      "needs_background": "light"
     },
     "output_type": "display_data"
    }
   ],
   "source": [
    "fig1, ax1 = plt.subplots(1,15, figsize=(15,10))\n",
    "for i in range(15):\n",
    "    ax1[i].imshow(X_test[i].reshape((28,28)), cmap=\"gray_r\")\n",
    "    ax1[i].axis('off')\n",
    "    ax1[i].set_title(y_test[i])"
   ]
  },
  {
   "cell_type": "markdown",
   "metadata": {
    "_cell_guid": "31927fcd-d45f-42fc-82bc-32052e029601",
    "_execution_state": "idle",
    "_uuid": "c6a26adf8bf68097202c8df4f0bc26311aeb3456"
   },
   "source": [
    "## Code - methods and classes\n",
    "\n"
   ]
  },
  {
   "cell_type": "markdown",
   "metadata": {
    "_uuid": "31099a044f01583b073c4253d24edb53a314c694"
   },
   "source": [
    "### Attack class\n"
   ]
  },
  {
   "cell_type": "code",
   "execution_count": 5,
   "metadata": {
    "_uuid": "acfe1e3ba341dd5749f4301e0c8b2505d7eac170",
    "execution": {
     "iopub.execute_input": "2021-11-18T10:59:42.080249Z",
     "iopub.status.busy": "2021-11-18T10:59:42.079999Z",
     "iopub.status.idle": "2021-11-18T10:59:42.098818Z",
     "shell.execute_reply": "2021-11-18T10:59:42.097927Z",
     "shell.execute_reply.started": "2021-11-18T10:59:42.080204Z"
    }
   },
   "outputs": [],
   "source": [
    "class Attack:\n",
    "\n",
    "    def __init__(self, model):\n",
    "        self.fooling_targets = None\n",
    "        self.model = model\n",
    "    \n",
    "    def prepare(self, X_train, y_train, X_test, y_test):\n",
    "        self.images = X_test\n",
    "        self.true_targets = y_test\n",
    "        self.num_samples = X_test.shape[0]\n",
    "        self.train(X_train, y_train)\n",
    "        print(\"Model training finished.\")\n",
    "        self.test(X_test, y_test)\n",
    "        print(\"Model testing finished. Initial accuracy score: \" + str(self.initial_score))\n",
    "    \n",
    "    def set_fooling_targets(self, fooling_targets):\n",
    "        self.fooling_targets = fooling_targets\n",
    "    \n",
    "    def train(self, X_train, y_train):\n",
    "        self.model.fit(X_train, y_train)\n",
    "        self.weights = self.model.coef_\n",
    "        self.num_classes = self.weights.shape[0]\n",
    "\n",
    "    def test(self, X_test, y_test):\n",
    "        self.preds = self.model.predict(X_test)\n",
    "        self.preds_proba = self.model.predict_proba(X_test)\n",
    "        self.initial_score = accuracy_score(y_test, self.preds)\n",
    "    \n",
    "    def create_one_hot_targets(self, targets):\n",
    "        self.one_hot_targets = np.zeros(self.preds_proba.shape)\n",
    "        for n in range(targets.shape[0]):\n",
    "            self.one_hot_targets[n, targets[n]] = 1\n",
    "            \n",
    "    def attack(self, attackmethod, epsilon):\n",
    "        perturbed_images, highest_epsilon = self.perturb_images(epsilon, attackmethod)\n",
    "        perturbed_preds = self.model.predict(perturbed_images)\n",
    "        score = accuracy_score(self.true_targets, perturbed_preds)\n",
    "        return perturbed_images, perturbed_preds, score, highest_epsilon\n",
    "    \n",
    "    def perturb_images(self, epsilon, gradient_method):\n",
    "        perturbed = np.zeros(self.images.shape)\n",
    "        max_perturbations = []\n",
    "        for n in range(self.images.shape[0]):\n",
    "            perturbation = self.get_perturbation(epsilon, gradient_method, self.one_hot_targets[n], self.preds_proba[n])\n",
    "            perturbed[n] = self.images[n] + perturbation\n",
    "            max_perturbations.append(np.max(perturbation))\n",
    "        highest_epsilon = np.max(np.array(max_perturbations))\n",
    "        return perturbed, highest_epsilon\n",
    "    \n",
    "    def get_perturbation(self, epsilon, gradient_method, target, pred_proba):\n",
    "        gradient = gradient_method(target, pred_proba, self.weights)\n",
    "        inf_norm = np.max(gradient)\n",
    "        perturbation = epsilon/inf_norm * gradient\n",
    "        return perturbation\n",
    "    \n",
    "    def attack_to_max_epsilon(self, attackmethod, max_epsilon):\n",
    "        self.max_epsilon = max_epsilon\n",
    "        self.scores = []\n",
    "        self.epsilons = []\n",
    "        self.perturbed_images_per_epsilon = []\n",
    "        self.perturbed_outputs_per_epsilon = []\n",
    "        for epsilon in range(0, self.max_epsilon):\n",
    "            perturbed_images, perturbed_preds, score, highest_epsilon = self.attack(attackmethod, epsilon)\n",
    "            self.epsilons.append(highest_epsilon)\n",
    "            self.scores.append(score)\n",
    "            self.perturbed_images_per_epsilon.append(perturbed_images)\n",
    "            self.perturbed_outputs_per_epsilon.append(perturbed_preds)"
   ]
  },
  {
   "cell_type": "markdown",
   "metadata": {
    "_cell_guid": "915db0f1-ae8c-407c-9c9b-9f76ec042b8c",
    "_uuid": "405f1b87ed32bf2a872e01be1493c25aa7745e3b"
   },
   "source": [
    "### Weight and Gradient methods "
   ]
  },
  {
   "cell_type": "code",
   "execution_count": 6,
   "metadata": {
    "_cell_guid": "6529c8b8-bb06-483b-a5d5-648aebd388f6",
    "_execution_state": "idle",
    "_kg_hide-input": true,
    "_uuid": "5546e41f11c910868d1c83c0578aa1607c27ad67",
    "execution": {
     "iopub.execute_input": "2021-11-18T10:59:42.100687Z",
     "iopub.status.busy": "2021-11-18T10:59:42.100294Z",
     "iopub.status.idle": "2021-11-18T10:59:42.119776Z",
     "shell.execute_reply": "2021-11-18T10:59:42.118726Z",
     "shell.execute_reply.started": "2021-11-18T10:59:42.100523Z"
    }
   },
   "outputs": [],
   "source": [
    "def calc_output_weighted_weights(output, w):\n",
    "    for c in range(len(output)):\n",
    "        if c == 0:\n",
    "            weighted_weights = output[c] * w[c]\n",
    "        else:\n",
    "            weighted_weights += output[c] * w[c]\n",
    "    return weighted_weights\n",
    "\n",
    "def targeted_gradient(foolingtarget, output, w):\n",
    "    ww = calc_output_weighted_weights(output, w)\n",
    "    for k in range(len(output)):\n",
    "        if k == 0:\n",
    "            gradient = foolingtarget[k] * (w[k]-ww)\n",
    "        else:\n",
    "            gradient += foolingtarget[k] * (w[k]-ww)\n",
    "    return gradient\n",
    "\n",
    "def non_targeted_gradient(target, output, w):\n",
    "    ww = calc_output_weighted_weights(output, w)\n",
    "    for k in range(len(target)):\n",
    "        if k == 0:\n",
    "            gradient = (1-target[k]) * (w[k]-ww)\n",
    "        else:\n",
    "            gradient += (1-target[k]) * (w[k]-ww)\n",
    "    return gradient"
   ]
  },
  {
   "cell_type": "markdown",
   "metadata": {
    "_cell_guid": "b633f74c-8833-4be7-aa78-09081f4b612d",
    "_uuid": "e466a4d6b44b9077874749bf986f7d4a3146ff33"
   },
   "source": [
    "## Training the model <a class=\"anchor\" id=\"training\"></a>\n",
    "\n"
   ]
  },
  {
   "cell_type": "code",
   "execution_count": 7,
   "metadata": {
    "_cell_guid": "55e834b0-9fa4-4f2a-9a24-34130b54155e",
    "_execution_state": "idle",
    "_uuid": "cecf10684e01d0d1f70a7687a150f4af6961311c",
    "execution": {
     "iopub.execute_input": "2021-11-18T10:59:42.121343Z",
     "iopub.status.busy": "2021-11-18T10:59:42.120938Z",
     "iopub.status.idle": "2021-11-18T10:59:42.133206Z",
     "shell.execute_reply": "2021-11-18T10:59:42.131738Z",
     "shell.execute_reply.started": "2021-11-18T10:59:42.121205Z"
    }
   },
   "outputs": [],
   "source": [
    "model = LogisticRegression(multi_class='multinomial', solver='lbfgs', fit_intercept=False)"
   ]
  },
  {
   "cell_type": "code",
   "execution_count": 8,
   "metadata": {
    "_cell_guid": "398d0ad7-42b6-4ebe-957d-f9a0a714fb51",
    "_execution_state": "idle",
    "_uuid": "5838fa53c94e550242436cc476ae963a8ab3442f",
    "execution": {
     "iopub.execute_input": "2021-11-18T10:59:42.135217Z",
     "iopub.status.busy": "2021-11-18T10:59:42.134632Z",
     "iopub.status.idle": "2021-11-18T10:59:56.649385Z",
     "shell.execute_reply": "2021-11-18T10:59:56.648272Z",
     "shell.execute_reply.started": "2021-11-18T10:59:42.135147Z"
    }
   },
   "outputs": [
    {
     "name": "stdout",
     "output_type": "stream",
     "text": [
      "Model training finished.\n",
      "Model testing finished. Initial accuracy score: 0.909345238095238\n"
     ]
    }
   ],
   "source": [
    "attack = Attack(model)\n",
    "attack.prepare(X_train, y_train, X_test, y_test)"
   ]
  },
  {
   "cell_type": "code",
   "execution_count": 9,
   "metadata": {
    "_cell_guid": "f50ad7d2-3b7c-4371-ab52-b55fff8efe2e",
    "_execution_state": "idle",
    "_uuid": "6278622538769c377689abf4036898cd43c8094a",
    "execution": {
     "iopub.execute_input": "2021-11-18T10:59:56.652060Z",
     "iopub.status.busy": "2021-11-18T10:59:56.651275Z",
     "iopub.status.idle": "2021-11-18T10:59:56.662629Z",
     "shell.execute_reply": "2021-11-18T10:59:56.661233Z",
     "shell.execute_reply.started": "2021-11-18T10:59:56.651969Z"
    }
   },
   "outputs": [
    {
     "data": {
      "text/plain": [
       "(10, 784)"
      ]
     },
     "execution_count": 9,
     "metadata": {},
     "output_type": "execute_result"
    }
   ],
   "source": [
    "weights = attack.weights\n",
    "weights.shape"
   ]
  },
  {
   "cell_type": "code",
   "execution_count": 10,
   "metadata": {
    "_cell_guid": "e444b1be-b561-49dc-9786-043f3b3dcdff",
    "_execution_state": "idle",
    "_uuid": "9f48657c0c7eeb5a088f0f75cfa6b3ef945b4efb",
    "execution": {
     "iopub.execute_input": "2021-11-18T10:59:56.665550Z",
     "iopub.status.busy": "2021-11-18T10:59:56.664649Z",
     "iopub.status.idle": "2021-11-18T10:59:56.675927Z",
     "shell.execute_reply": "2021-11-18T10:59:56.674717Z",
     "shell.execute_reply.started": "2021-11-18T10:59:56.665464Z"
    }
   },
   "outputs": [
    {
     "data": {
      "text/plain": [
       "10"
      ]
     },
     "execution_count": 10,
     "metadata": {},
     "output_type": "execute_result"
    }
   ],
   "source": [
    "num_classes = len(np.unique(y_train))\n",
    "num_classes"
   ]
  },
  {
   "cell_type": "markdown",
   "metadata": {
    "_cell_guid": "0400e84b-2aa9-4a0d-9770-96b3699e2d1c",
    "_uuid": "b51ccee09183e6aee7a87e410d0fad7f02260b48"
   },
   "source": [
    "### Adding tiny perturbations"
   ]
  },
  {
   "cell_type": "code",
   "execution_count": 11,
   "metadata": {
    "_cell_guid": "dde231aa-12b5-47f2-8de0-c1cfdd60d519",
    "_execution_state": "idle",
    "_uuid": "c82590af33833f2567f0206f3f6137471fee1bf4",
    "execution": {
     "iopub.execute_input": "2021-11-18T10:59:56.679177Z",
     "iopub.status.busy": "2021-11-18T10:59:56.678388Z",
     "iopub.status.idle": "2021-11-18T11:01:28.028407Z",
     "shell.execute_reply": "2021-11-18T11:01:28.026996Z",
     "shell.execute_reply.started": "2021-11-18T10:59:56.679101Z"
    }
   },
   "outputs": [],
   "source": [
    "attack.create_one_hot_targets(y_test)\n",
    "attack.attack_to_max_epsilon(non_targeted_gradient, 30)\n",
    "non_targeted_scores = attack.scores"
   ]
  },
  {
   "cell_type": "code",
   "execution_count": 12,
   "metadata": {
    "_cell_guid": "a33b845c-0dc6-4d49-babb-50ffa5572520",
    "_execution_state": "idle",
    "_kg_hide-input": true,
    "_uuid": "ab8237ddeeca26485ee6e2e66bb1a4a95ecb32cb",
    "execution": {
     "iopub.execute_input": "2021-11-18T11:01:28.033271Z",
     "iopub.status.busy": "2021-11-18T11:01:28.031069Z",
     "iopub.status.idle": "2021-11-18T11:01:28.435283Z",
     "shell.execute_reply": "2021-11-18T11:01:28.434286Z",
     "shell.execute_reply.started": "2021-11-18T11:01:28.033183Z"
    }
   },
   "outputs": [
    {
     "data": {
      "image/png": "[encoded data removed]",
      "text/plain": [
       "<Figure size 720x360 with 1 Axes>"
      ]
     },
     "metadata": {},
     "output_type": "display_data"
    }
   ],
   "source": [
    "sns.set()\n",
    "plt.figure(figsize=(10,5))\n",
    "plt.plot(attack.epsilons, attack.scores, 'g*')\n",
    "plt.ylabel('accuracy_score')\n",
    "plt.xlabel('epsilon')\n",
    "plt.title('Accuracy score breakdown - non-targeted attack');"
   ]
  },
  {
   "cell_type": "code",
   "execution_count": 13,
   "metadata": {
    "_cell_guid": "36a77cd4-90c1-4ed3-bb76-a153af0bf06a",
    "_execution_state": "idle",
    "_uuid": "5488992c63f23a1ceb054d9b2abb14461f042bdb",
    "execution": {
     "iopub.execute_input": "2021-11-18T11:01:28.437821Z",
     "iopub.status.busy": "2021-11-18T11:01:28.437137Z",
     "iopub.status.idle": "2021-11-18T11:01:28.445187Z",
     "shell.execute_reply": "2021-11-18T11:01:28.444231Z",
     "shell.execute_reply.started": "2021-11-18T11:01:28.437753Z"
    }
   },
   "outputs": [
    {
     "data": {
      "text/plain": [
       "16.0"
      ]
     },
     "execution_count": 13,
     "metadata": {},
     "output_type": "execute_result"
    }
   ],
   "source": [
    "eps = 16\n",
    "attack.epsilons[eps]"
   ]
  },
  {
   "cell_type": "code",
   "execution_count": 14,
   "metadata": {
    "_cell_guid": "50bde7ea-a653-4358-8846-b09a2d98d4ed",
    "_execution_state": "idle",
    "_uuid": "6a63f4acd8e7318059d97e86cfaef351fdb71f34",
    "execution": {
     "iopub.execute_input": "2021-11-18T11:01:28.447630Z",
     "iopub.status.busy": "2021-11-18T11:01:28.446954Z",
     "iopub.status.idle": "2021-11-18T11:01:28.455497Z",
     "shell.execute_reply": "2021-11-18T11:01:28.454470Z",
     "shell.execute_reply.started": "2021-11-18T11:01:28.447552Z"
    }
   },
   "outputs": [],
   "source": [
    "example_images = attack.perturbed_images_per_epsilon[eps]\n",
    "example_preds = attack.perturbed_outputs_per_epsilon[eps]"
   ]
  },
  {
   "cell_type": "code",
   "execution_count": 15,
   "metadata": {
    "_cell_guid": "49cd9f0c-0ebc-44cf-a1ae-86ac6deb4bd6",
    "_execution_state": "idle",
    "_uuid": "5e50d8a32c92a86fe3d93580a3828da32cadfe6d",
    "execution": {
     "iopub.execute_input": "2021-11-18T11:01:28.457759Z",
     "iopub.status.busy": "2021-11-18T11:01:28.457319Z",
     "iopub.status.idle": "2021-11-18T11:01:28.480894Z",
     "shell.execute_reply": "2021-11-18T11:01:28.480208Z",
     "shell.execute_reply.started": "2021-11-18T11:01:28.457713Z"
    }
   },
   "outputs": [
    {
     "data": {
      "text/html": [
       "<div>\n",
       "<style scoped>\n",
       "    .dataframe tbody tr th:only-of-type {\n",
       "        vertical-align: middle;\n",
       "    }\n",
       "\n",
       "    .dataframe tbody tr th {\n",
       "        vertical-align: top;\n",
       "    }\n",
       "\n",
       "    .dataframe thead th {\n",
       "        text-align: right;\n",
       "    }\n",
       "</style>\n",
       "<table border=\"1\" class=\"dataframe\">\n",
       "  <thead>\n",
       "    <tr style=\"text-align: right;\">\n",
       "      <th></th>\n",
       "      <th>y_true</th>\n",
       "      <th>y_fooled</th>\n",
       "      <th>y_predicted</th>\n",
       "      <th>id</th>\n",
       "    </tr>\n",
       "  </thead>\n",
       "  <tbody>\n",
       "    <tr>\n",
       "      <th>0</th>\n",
       "      <td>3</td>\n",
       "      <td>8</td>\n",
       "      <td>3</td>\n",
       "      <td>0</td>\n",
       "    </tr>\n",
       "    <tr>\n",
       "      <th>1</th>\n",
       "      <td>6</td>\n",
       "      <td>6</td>\n",
       "      <td>6</td>\n",
       "      <td>1</td>\n",
       "    </tr>\n",
       "    <tr>\n",
       "      <th>2</th>\n",
       "      <td>9</td>\n",
       "      <td>9</td>\n",
       "      <td>9</td>\n",
       "      <td>2</td>\n",
       "    </tr>\n",
       "    <tr>\n",
       "      <th>3</th>\n",
       "      <td>5</td>\n",
       "      <td>8</td>\n",
       "      <td>5</td>\n",
       "      <td>3</td>\n",
       "    </tr>\n",
       "    <tr>\n",
       "      <th>4</th>\n",
       "      <td>6</td>\n",
       "      <td>6</td>\n",
       "      <td>6</td>\n",
       "      <td>4</td>\n",
       "    </tr>\n",
       "  </tbody>\n",
       "</table>\n",
       "</div>"
      ],
      "text/plain": [
       "   y_true  y_fooled  y_predicted  id\n",
       "0       3         8            3   0\n",
       "1       6         6            6   1\n",
       "2       9         9            9   2\n",
       "3       5         8            5   3\n",
       "4       6         6            6   4"
      ]
     },
     "execution_count": 15,
     "metadata": {},
     "output_type": "execute_result"
    }
   ],
   "source": [
    "example_results = pd.DataFrame(data=attack.true_targets, columns=['y_true'])\n",
    "example_results['y_fooled'] = example_preds\n",
    "example_results['y_predicted'] = attack.preds\n",
    "example_results['id'] = example_results.index.values\n",
    "example_results.head()"
   ]
  },
  {
   "cell_type": "code",
   "execution_count": 16,
   "metadata": {
    "_cell_guid": "2cff8ade-eef2-4f85-ac5a-411f6af2cbe6",
    "_execution_state": "idle",
    "_uuid": "628ef80fd435adb9fd9d9fb602c7b2def02f9c1b",
    "execution": {
     "iopub.execute_input": "2021-11-18T11:01:28.482553Z",
     "iopub.status.busy": "2021-11-18T11:01:28.482113Z",
     "iopub.status.idle": "2021-11-18T11:01:28.502535Z",
     "shell.execute_reply": "2021-11-18T11:01:28.501774Z",
     "shell.execute_reply.started": "2021-11-18T11:01:28.482509Z"
    },
    "scrolled": true
   },
   "outputs": [
    {
     "data": {
      "text/html": [
       "<div>\n",
       "<style scoped>\n",
       "    .dataframe tbody tr th:only-of-type {\n",
       "        vertical-align: middle;\n",
       "    }\n",
       "\n",
       "    .dataframe tbody tr th {\n",
       "        vertical-align: top;\n",
       "    }\n",
       "\n",
       "    .dataframe thead th {\n",
       "        text-align: right;\n",
       "    }\n",
       "</style>\n",
       "<table border=\"1\" class=\"dataframe\">\n",
       "  <thead>\n",
       "    <tr style=\"text-align: right;\">\n",
       "      <th></th>\n",
       "      <th>y_true</th>\n",
       "      <th>y_fooled</th>\n",
       "      <th>y_predicted</th>\n",
       "      <th>id</th>\n",
       "    </tr>\n",
       "  </thead>\n",
       "  <tbody>\n",
       "    <tr>\n",
       "      <th>0</th>\n",
       "      <td>3</td>\n",
       "      <td>8</td>\n",
       "      <td>3</td>\n",
       "      <td>0</td>\n",
       "    </tr>\n",
       "    <tr>\n",
       "      <th>3</th>\n",
       "      <td>5</td>\n",
       "      <td>8</td>\n",
       "      <td>5</td>\n",
       "      <td>3</td>\n",
       "    </tr>\n",
       "    <tr>\n",
       "      <th>5</th>\n",
       "      <td>5</td>\n",
       "      <td>9</td>\n",
       "      <td>0</td>\n",
       "      <td>5</td>\n",
       "    </tr>\n",
       "    <tr>\n",
       "      <th>6</th>\n",
       "      <td>6</td>\n",
       "      <td>2</td>\n",
       "      <td>6</td>\n",
       "      <td>6</td>\n",
       "    </tr>\n",
       "    <tr>\n",
       "      <th>14</th>\n",
       "      <td>8</td>\n",
       "      <td>5</td>\n",
       "      <td>8</td>\n",
       "      <td>14</td>\n",
       "    </tr>\n",
       "  </tbody>\n",
       "</table>\n",
       "</div>"
      ],
      "text/plain": [
       "    y_true  y_fooled  y_predicted  id\n",
       "0        3         8            3   0\n",
       "3        5         8            5   3\n",
       "5        5         9            0   5\n",
       "6        6         2            6   6\n",
       "14       8         5            8  14"
      ]
     },
     "execution_count": 16,
     "metadata": {},
     "output_type": "execute_result"
    }
   ],
   "source": [
    "success_df = example_results[example_results.y_fooled != example_results.y_true]\n",
    "success_df.head()"
   ]
  },
  {
   "cell_type": "code",
   "execution_count": 17,
   "metadata": {
    "_cell_guid": "48f68809-43a7-4a24-b949-c093970a9437",
    "_execution_state": "idle",
    "_uuid": "ba80cab01d80d8b5685e98ce5e3b225e15d1cf20",
    "execution": {
     "iopub.execute_input": "2021-11-18T11:01:28.504186Z",
     "iopub.status.busy": "2021-11-18T11:01:28.503753Z",
     "iopub.status.idle": "2021-11-18T11:01:28.509894Z",
     "shell.execute_reply": "2021-11-18T11:01:28.509333Z",
     "shell.execute_reply.started": "2021-11-18T11:01:28.503956Z"
    }
   },
   "outputs": [
    {
     "data": {
      "text/plain": [
       "0"
      ]
     },
     "execution_count": 17,
     "metadata": {},
     "output_type": "execute_result"
    }
   ],
   "source": [
    "example_id = success_df.id.values[0]\n",
    "example_id"
   ]
  },
  {
   "cell_type": "code",
   "execution_count": 18,
   "metadata": {
    "_cell_guid": "850ec3a5-a332-41aa-b7cd-3d435336ddd7",
    "_execution_state": "idle",
    "_kg_hide-input": true,
    "_uuid": "16915e0cc91c906803a61640ba26142591091280",
    "execution": {
     "iopub.execute_input": "2021-11-18T11:01:28.511301Z",
     "iopub.status.busy": "2021-11-18T11:01:28.510908Z",
     "iopub.status.idle": "2021-11-18T11:01:29.630799Z",
     "shell.execute_reply": "2021-11-18T11:01:29.629435Z",
     "shell.execute_reply.started": "2021-11-18T11:01:28.511261Z"
    }
   },
   "outputs": [
    {
     "data": {
      "image/png": "[encoded data removed]",
      "text/plain": [
       "<Figure size 1080x1080 with 16 Axes>"
      ]
     },
     "metadata": {},
     "output_type": "display_data"
    }
   ],
   "source": [
    "fig2, ax2 = plt.subplots(4,4, figsize=(15,15))\n",
    "for i in range(4):\n",
    "    for j in range(4):\n",
    "        image = attack.perturbed_images_per_epsilon[i*4 + j][example_id]\n",
    "        y_fooled = attack.perturbed_outputs_per_epsilon[i*4 + j][example_id]\n",
    "        epsilon = attack.epsilons[i*4 +j]\n",
    "        ax2[i,j].imshow(image.reshape((28,28)), cmap=\"gray_r\")\n",
    "        ax2[i,j].axis('off')\n",
    "        ax2[i,j].set_title(\"true: \" + str(y_test[example_id]) + \", fooled: \" + str(y_fooled)  + \"\\n\" \n",
    "                           + \"epsilon: \" + str(np.int(epsilon)))"
   ]
  },
  {
   "cell_type": "code",
   "execution_count": 19,
   "metadata": {
    "_cell_guid": "f0291249-2815-4c1e-bc6a-901c2bdd2f47",
    "_execution_state": "idle",
    "_kg_hide-input": true,
    "_uuid": "bdbe09c9e03efde2af49099c95cd83645db68e5b",
    "execution": {
     "iopub.execute_input": "2021-11-18T11:01:29.632734Z",
     "iopub.status.busy": "2021-11-18T11:01:29.632367Z",
     "iopub.status.idle": "2021-11-18T11:01:30.065445Z",
     "shell.execute_reply": "2021-11-18T11:01:30.064432Z",
     "shell.execute_reply.started": "2021-11-18T11:01:29.632665Z"
    }
   },
   "outputs": [
    {
     "data": {
      "image/png": "[encoded data removed]",
      "text/plain": [
       "<Figure size 1080x360 with 3 Axes>"
      ]
     },
     "metadata": {},
     "output_type": "display_data"
    }
   ],
   "source": [
    "fig, (axA, axB, axC) = plt.subplots(1, 3, figsize=(15,5))\n",
    "axB.imshow(example_images[example_id].reshape((28,28)), cmap='Greens')\n",
    "axB.set_title(\"Non-targeted attack result: \" + str(example_preds[example_id]))\n",
    "axA.imshow(X_test[example_id].reshape((28,28)), cmap='Greens')\n",
    "axA.set_title(\"True label: \" + str(y_test[example_id]))\n",
    "axC.imshow((X_test[example_id]-example_images[example_id]).reshape((28,28)), cmap='Reds')\n",
    "axC.set_title(\"Perturbation: epsilon 16\");"
   ]
  },
  {
   "cell_type": "code",
   "execution_count": 20,
   "metadata": {
    "_cell_guid": "9a58deac-8ede-48a2-a353-1614d7edae56",
    "_execution_state": "idle",
    "_uuid": "dd50bcaf51f98491c2c517a6476d3b4e328c60cf",
    "execution": {
     "iopub.execute_input": "2021-11-18T11:01:30.068354Z",
     "iopub.status.busy": "2021-11-18T11:01:30.067672Z",
     "iopub.status.idle": "2021-11-18T11:01:30.399641Z",
     "shell.execute_reply": "2021-11-18T11:01:30.398691Z",
     "shell.execute_reply.started": "2021-11-18T11:01:30.067991Z"
    }
   },
   "outputs": [
    {
     "data": {
      "text/plain": [
       "<AxesSubplot:xlabel='y_fooled', ylabel='count'>"
      ]
     },
     "execution_count": 20,
     "metadata": {},
     "output_type": "execute_result"
    },
    {
     "data": {
      "image/png": "[encoded data removed]",
      "text/plain": [
       "<Figure size 720x360 with 1 Axes>"
      ]
     },
     "metadata": {},
     "output_type": "display_data"
    }
   ],
   "source": [
    "plt.figure(figsize=(10,5))\n",
    "sns.countplot(x='y_fooled', data=example_results[example_results.y_true != example_results.y_fooled])"
   ]
  },
  {
   "cell_type": "code",
   "execution_count": 21,
   "metadata": {
    "_cell_guid": "9e46660d-99e9-460c-bcde-94c3d01c2251",
    "_execution_state": "idle",
    "_uuid": "c1dcda977d59668fa31b4882fec51b2930bb0086",
    "execution": {
     "iopub.execute_input": "2021-11-18T11:01:30.401520Z",
     "iopub.status.busy": "2021-11-18T11:01:30.401186Z",
     "iopub.status.idle": "2021-11-18T11:01:30.410740Z",
     "shell.execute_reply": "2021-11-18T11:01:30.409815Z",
     "shell.execute_reply.started": "2021-11-18T11:01:30.401464Z"
    }
   },
   "outputs": [
    {
     "data": {
      "text/plain": [
       "(1523, 4)"
      ]
     },
     "execution_count": 21,
     "metadata": {},
     "output_type": "execute_result"
    }
   ],
   "source": [
    "wrong_predictions = example_results[example_results.y_true != example_results.y_predicted]\n",
    "wrong_predictions.shape"
   ]
  },
  {
   "cell_type": "code",
   "execution_count": 22,
   "metadata": {
    "_cell_guid": "4c5562f2-cbcb-42f7-b33b-3092649ad3a4",
    "_execution_state": "idle",
    "_uuid": "63da90b5890b9b4a4a9efc9b49a4f557c6ca1523",
    "execution": {
     "iopub.execute_input": "2021-11-18T11:01:30.413023Z",
     "iopub.status.busy": "2021-11-18T11:01:30.412372Z",
     "iopub.status.idle": "2021-11-18T11:01:30.423003Z",
     "shell.execute_reply": "2021-11-18T11:01:30.422164Z",
     "shell.execute_reply.started": "2021-11-18T11:01:30.412927Z"
    }
   },
   "outputs": [
    {
     "data": {
      "text/plain": [
       "(16800, 784)"
      ]
     },
     "execution_count": 22,
     "metadata": {},
     "output_type": "execute_result"
    }
   ],
   "source": [
    "X_test.shape"
   ]
  },
  {
   "cell_type": "code",
   "execution_count": 23,
   "metadata": {
    "_cell_guid": "131fdbd7-9e90-4f50-b46d-129403e9fd73",
    "_execution_state": "idle",
    "_uuid": "989368c698badd3b824ecfaf04a57db059547cf1",
    "execution": {
     "iopub.execute_input": "2021-11-18T11:01:30.427168Z",
     "iopub.status.busy": "2021-11-18T11:01:30.426299Z",
     "iopub.status.idle": "2021-11-18T11:01:30.629258Z",
     "shell.execute_reply": "2021-11-18T11:01:30.627916Z",
     "shell.execute_reply.started": "2021-11-18T11:01:30.426765Z"
    }
   },
   "outputs": [
    {
     "data": {
      "text/plain": [
       "<AxesSubplot:xlabel='y_predicted', ylabel='count'>"
      ]
     },
     "execution_count": 23,
     "metadata": {},
     "output_type": "execute_result"
    },
    {
     "data": {
      "image/png": "[encoded data removed]",
      "text/plain": [
       "<Figure size 720x360 with 1 Axes>"
      ]
     },
     "metadata": {},
     "output_type": "display_data"
    }
   ],
   "source": [
    "plt.figure(figsize=(10,5))\n",
    "sns.countplot(x='y_predicted', data=wrong_predictions)"
   ]
  },
  {
   "cell_type": "code",
   "execution_count": 24,
   "metadata": {
    "_cell_guid": "ec52935f-ec3e-4966-87f5-3474eebd23e9",
    "_execution_state": "idle",
    "_uuid": "d0486299bde081f8ea34bc85a2a5a1fba67716bb",
    "execution": {
     "iopub.execute_input": "2021-11-18T11:01:30.631853Z",
     "iopub.status.busy": "2021-11-18T11:01:30.631232Z",
     "iopub.status.idle": "2021-11-18T11:01:30.851262Z",
     "shell.execute_reply": "2021-11-18T11:01:30.850198Z",
     "shell.execute_reply.started": "2021-11-18T11:01:30.631776Z"
    }
   },
   "outputs": [
    {
     "data": {
      "text/plain": [
       "<AxesSubplot:xlabel='y_true', ylabel='count'>"
      ]
     },
     "execution_count": 24,
     "metadata": {},
     "output_type": "execute_result"
    },
    {
     "data": {
      "image/png": "[encoded data removed]",
      "text/plain": [
       "<Figure size 720x360 with 1 Axes>"
      ]
     },
     "metadata": {},
     "output_type": "display_data"
    }
   ],
   "source": [
    "plt.figure(figsize=(10,5))\n",
    "sns.countplot(x='y_true', data=wrong_predictions)"
   ]
  },
  {
   "cell_type": "code",
   "execution_count": 25,
   "metadata": {
    "_uuid": "2263947f369d0fdae5b5a37bed901f67c7ca06f7",
    "execution": {
     "iopub.execute_input": "2021-11-18T11:01:30.853511Z",
     "iopub.status.busy": "2021-11-18T11:01:30.852902Z",
     "iopub.status.idle": "2021-11-18T11:01:30.915182Z",
     "shell.execute_reply": "2021-11-18T11:01:30.913606Z",
     "shell.execute_reply.started": "2021-11-18T11:01:30.853362Z"
    }
   },
   "outputs": [],
   "source": [
    "attacktargets = example_results.loc[example_results.y_true != example_results.y_fooled].groupby(\n",
    "    'y_true').y_fooled.value_counts()\n",
    "counts = example_results.loc[example_results.y_true != example_results.y_fooled].groupby(\n",
    "    'y_true').y_fooled.count()\n",
    "attacktargets = attacktargets/counts * 100\n",
    "attacktargets = attacktargets.unstack()\n",
    "attacktargets = attacktargets.fillna(0.0) \n",
    "attacktargets = attacktargets.apply(np.round).astype(np.int)"
   ]
  },
  {
   "cell_type": "code",
   "execution_count": 26,
   "metadata": {
    "_cell_guid": "14fc9785-cc79-453a-af63-c6391bcd47dc",
    "_execution_state": "idle",
    "_uuid": "de0c2c38c9dd0168195a71791e2387fbee15c23a",
    "execution": {
     "iopub.execute_input": "2021-11-18T11:01:30.917301Z",
     "iopub.status.busy": "2021-11-18T11:01:30.916909Z",
     "iopub.status.idle": "2021-11-18T11:01:31.616899Z",
     "shell.execute_reply": "2021-11-18T11:01:31.616029Z",
     "shell.execute_reply.started": "2021-11-18T11:01:30.917223Z"
    }
   },
   "outputs": [
    {
     "data": {
      "image/png": "[encoded data removed]",
      "text/plain": [
       "<Figure size 720x720 with 1 Axes>"
      ]
     },
     "metadata": {},
     "output_type": "display_data"
    }
   ],
   "source": [
    "f, ax = plt.subplots(figsize=(10, 10))\n",
    "sns.heatmap(attacktargets, annot=True, ax=ax, cbar=False, square=True, cmap=\"Reds\", fmt=\"g\");\n",
    "ax.set_title(\"How often was y_true predicted as some y_fooled digit in percent?\");"
   ]
  },
  {
   "cell_type": "code",
   "execution_count": 27,
   "metadata": {
    "_cell_guid": "8293b1f1-7370-4153-b34e-42ad7cd79d15",
    "_execution_state": "idle",
    "_uuid": "daa73a73256512bb2a7a4b8b1fa8f9227253e823",
    "execution": {
     "iopub.execute_input": "2021-11-18T11:01:33.376653Z",
     "iopub.status.busy": "2021-11-18T11:01:33.376311Z",
     "iopub.status.idle": "2021-11-18T11:01:33.393666Z",
     "shell.execute_reply": "2021-11-18T11:01:33.392827Z",
     "shell.execute_reply.started": "2021-11-18T11:01:33.376587Z"
    }
   },
   "outputs": [],
   "source": [
    "natural_targets_dict = {}\n",
    "non_natural_targets_dict = {}\n",
    "for ix, series in attacktargets.iterrows():\n",
    "    natural_targets_dict[ix] = series.argmax()\n",
    "    non_natural_targets_dict[ix] = series.drop(ix).argmin()"
   ]
  },
  {
   "cell_type": "code",
   "execution_count": 28,
   "metadata": {
    "_cell_guid": "feeada47-b155-4091-b826-395503edb676",
    "_execution_state": "idle",
    "_uuid": "805809275409c6b68ae9c6ebbbe83e0df33c0668",
    "execution": {
     "iopub.execute_input": "2021-11-18T11:01:33.403216Z",
     "iopub.status.busy": "2021-11-18T11:01:33.402787Z",
     "iopub.status.idle": "2021-11-18T11:01:33.450707Z",
     "shell.execute_reply": "2021-11-18T11:01:33.449436Z",
     "shell.execute_reply.started": "2021-11-18T11:01:33.403151Z"
    }
   },
   "outputs": [],
   "source": [
    "natural_foolingtargets = np.zeros((y_test.shape[0]))\n",
    "non_natural_foolingtargets = np.zeros((y_test.shape[0]))\n",
    "\n",
    "for n in range(len(natural_foolingtargets)):\n",
    "    target = y_test[n]\n",
    "    natural_foolingtargets[n] = natural_targets_dict[target]\n",
    "    non_natural_foolingtargets[n] = non_natural_targets_dict[target]"
   ]
  },
  {
   "cell_type": "code",
   "execution_count": 29,
   "metadata": {
    "_cell_guid": "16269dbf-42e0-4ba4-8825-4c17b3d611e6",
    "_execution_state": "idle",
    "_uuid": "acf9f375aa4bb06fbb86f77c9ad3c70e12801ae5",
    "execution": {
     "iopub.execute_input": "2021-11-18T11:01:33.452365Z",
     "iopub.status.busy": "2021-11-18T11:01:33.452077Z",
     "iopub.status.idle": "2021-11-18T11:04:32.687142Z",
     "shell.execute_reply": "2021-11-18T11:04:32.686029Z",
     "shell.execute_reply.started": "2021-11-18T11:01:33.452314Z"
    },
    "scrolled": true
   },
   "outputs": [],
   "source": [
    "attack.create_one_hot_targets(natural_foolingtargets.astype(np.int))\n",
    "attack.attack_to_max_epsilon(targeted_gradient, 30)\n",
    "natural_scores = attack.scores\n",
    "attack.create_one_hot_targets(non_natural_foolingtargets.astype(np.int))\n",
    "attack.attack_to_max_epsilon(targeted_gradient, 30)\n",
    "non_natural_scores = attack.scores"
   ]
  },
  {
   "cell_type": "code",
   "execution_count": 30,
   "metadata": {},
   "outputs": [
    {
     "data": {
      "text/plain": [
       "[0.909345238095238,\n",
       " 0.9044047619047619,\n",
       " 0.8961904761904762,\n",
       " 0.8870833333333333,\n",
       " 0.8773809523809524,\n",
       " 0.8629166666666667,\n",
       " 0.8448809523809524,\n",
       " 0.8233333333333334,\n",
       " 0.7999404761904761,\n",
       " 0.7747619047619048,\n",
       " 0.7445833333333334,\n",
       " 0.7110714285714286,\n",
       " 0.6754166666666667,\n",
       " 0.63875,\n",
       " 0.5989285714285715,\n",
       " 0.5591071428571428,\n",
       " 0.5178571428571429,\n",
       " 0.4764285714285714,\n",
       " 0.43857142857142856,\n",
       " 0.40279761904761907,\n",
       " 0.37148809523809523,\n",
       " 0.3410714285714286,\n",
       " 0.3145833333333333,\n",
       " 0.2920238095238095,\n",
       " 0.2681547619047619,\n",
       " 0.24720238095238095,\n",
       " 0.23083333333333333,\n",
       " 0.2125,\n",
       " 0.19505952380952382,\n",
       " 0.18154761904761904]"
      ]
     },
     "execution_count": 30,
     "metadata": {},
     "output_type": "execute_result"
    }
   ],
   "source": [
    "natural_scores"
   ]
  },
  {
   "cell_type": "code",
   "execution_count": 31,
   "metadata": {},
   "outputs": [
    {
     "data": {
      "text/plain": [
       "[0.909345238095238,\n",
       " 0.9097619047619048,\n",
       " 0.9094642857142857,\n",
       " 0.9088690476190476,\n",
       " 0.9066071428571428,\n",
       " 0.9020833333333333,\n",
       " 0.8966071428571428,\n",
       " 0.8891666666666667,\n",
       " 0.8794642857142857,\n",
       " 0.861845238095238,\n",
       " 0.8392261904761905,\n",
       " 0.8151785714285714,\n",
       " 0.7904761904761904,\n",
       " 0.7633928571428571,\n",
       " 0.735,\n",
       " 0.7085714285714285,\n",
       " 0.6801190476190476,\n",
       " 0.6502976190476191,\n",
       " 0.6202380952380953,\n",
       " 0.5886309523809524,\n",
       " 0.55875,\n",
       " 0.5266666666666666,\n",
       " 0.4936309523809524,\n",
       " 0.4620238095238095,\n",
       " 0.43273809523809526,\n",
       " 0.4019642857142857,\n",
       " 0.376547619047619,\n",
       " 0.35160714285714284,\n",
       " 0.3289285714285714,\n",
       " 0.3086904761904762]"
      ]
     },
     "execution_count": 31,
     "metadata": {},
     "output_type": "execute_result"
    }
   ],
   "source": [
    "non_natural_scores"
   ]
  },
  {
   "cell_type": "code",
   "execution_count": 32,
   "metadata": {
    "_cell_guid": "4ade18c0-0b84-438d-9605-f5f11a30f3bf",
    "_execution_state": "idle",
    "_uuid": "9f8203a7bfd048766726505ebcb2532e202a6580",
    "execution": {
     "iopub.execute_input": "2021-11-18T11:04:32.689955Z",
     "iopub.status.busy": "2021-11-18T11:04:32.689191Z",
     "iopub.status.idle": "2021-11-18T11:04:33.086687Z",
     "shell.execute_reply": "2021-11-18T11:04:33.085669Z",
     "shell.execute_reply.started": "2021-11-18T11:04:32.689881Z"
    }
   },
   "outputs": [
    {
     "data": {
      "image/png": "[encoded data removed]",
      "text/plain": [
       "<Figure size 720x360 with 1 Axes>"
      ]
     },
     "metadata": {},
     "output_type": "display_data"
    }
   ],
   "source": [
    "plt.figure(figsize=(10,5))\n",
    "nf, = plt.plot(attack.epsilons, natural_scores, 'g*', label='natural fooling')\n",
    "nnf, = plt.plot(attack.epsilons, non_natural_scores, 'b*', label='non-natural fooling')\n",
    "plt.legend(handles=[nf, nnf])\n",
    "plt.ylabel('accuracy_score')\n",
    "plt.xlabel('epsilon')\n",
    "plt.title('Accuracy score breakdown: natural vs non-natural targeted attack');"
   ]
  }
 ],
 "metadata": {
  "kernelspec": {
   "display_name": "Python 3",
   "language": "python",
   "name": "python3"
  },
  "language_info": {
   "codemirror_mode": {
    "name": "ipython",
    "version": 3
   },
   "file_extension": ".py",
   "mimetype": "text/x-python",
   "name": "python",
   "nbconvert_exporter": "python",
   "pygments_lexer": "ipython3",
   "version": "3.8.8"
  }
 },
 "nbformat": 4,
 "nbformat_minor": 4
}
